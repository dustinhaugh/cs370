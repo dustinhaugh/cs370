{
 "cells": [
  {
   "cell_type": "markdown",
   "metadata": {},
   "source": [
    "# Treasure Hunt Game Notebook\n",
    "\n",
    "## Read and Review Your Starter Code\n",
    "The theme of this project is a popular treasure hunt game in which the player needs to find the treasure before the pirate does. While you will not be developing the entire game, you will write the part of the game that represents the intelligent agent, which is a pirate in this case. The pirate will try to find the optimal path to the treasure using deep Q-learning. \n",
    "\n",
    "You have been provided with two Python classes and this notebook to help you with this assignment. The first class, TreasureMaze.py, represents the environment, which includes a maze object defined as a matrix. The second class, GameExperience.py, stores the episodes – that is, all the states that come in between the initial state and the terminal state. This is later used by the agent for learning by experience, called \"exploration\". This notebook shows how to play a game. Your task is to complete the deep Q-learning implementation for which a skeleton implementation has been provided. The code blocs you will need to complete has #TODO as a header.\n",
    "\n",
    "First, read and review the next few code and instruction blocks to understand the code that you have been given."
   ]
  },
  {
   "cell_type": "code",
   "execution_count": 27,
   "metadata": {},
   "outputs": [],
   "source": [
    "from __future__ import print_function\n",
    "import os, sys, time, datetime, json, random\n",
    "import numpy as np\n",
    "from keras.models import Sequential\n",
    "from keras.layers.core import Dense, Activation\n",
    "from keras.optimizers import SGD , Adam, RMSprop\n",
    "from keras.layers.advanced_activations import PReLU\n",
    "import matplotlib.pyplot as plt\n",
    "from TreasureMaze import TreasureMaze\n",
    "from GameExperience import GameExperience\n",
    "%matplotlib inline"
   ]
  },
  {
   "cell_type": "markdown",
   "metadata": {},
   "source": [
    "The following code block contains an 8x8 matrix that will be used as a maze object:"
   ]
  },
  {
   "cell_type": "code",
   "execution_count": 28,
   "metadata": {},
   "outputs": [],
   "source": [
    "maze = np.array([\n",
    "    [ 1.,  0.,  1.,  1.,  1.,  1.,  1.,  1.],\n",
    "    [ 1.,  0.,  1.,  1.,  1.,  0.,  1.,  1.],\n",
    "    [ 1.,  1.,  1.,  1.,  0.,  1.,  0.,  1.],\n",
    "    [ 1.,  1.,  1.,  0.,  1.,  1.,  1.,  1.],\n",
    "    [ 1.,  1.,  0.,  1.,  1.,  1.,  1.,  1.],\n",
    "    [ 1.,  1.,  1.,  0.,  1.,  0.,  0.,  0.],\n",
    "    [ 1.,  1.,  1.,  0.,  1.,  1.,  1.,  1.],\n",
    "    [ 1.,  1.,  1.,  1.,  0.,  1.,  1.,  1.]\n",
    "])  # Maze is 8 x 8\n",
    "\n",
    "# I could generate a maze with\n",
    "# maze = numpy.random.randint(2, size=(7,7))"
   ]
  },
  {
   "cell_type": "markdown",
   "metadata": {},
   "source": [
    "This helper function allows a visual representation of the maze object:"
   ]
  },
  {
   "cell_type": "code",
   "execution_count": 29,
   "metadata": {},
   "outputs": [],
   "source": [
    "def show(qmaze):\n",
    "    plt.grid('on')\n",
    "    nrows, ncols = qmaze.maze.shape\n",
    "    ax = plt.gca()\n",
    "    ax.set_xticks(np.arange(0.5, nrows, 1))\n",
    "    ax.set_yticks(np.arange(0.5, ncols, 1))\n",
    "    ax.set_xticklabels([])\n",
    "    ax.set_yticklabels([])\n",
    "    canvas = np.copy(qmaze.maze)\n",
    "    for row,col in qmaze.visited:\n",
    "        canvas[row,col] = 0.6\n",
    "    pirate_row, pirate_col, _ = qmaze.state\n",
    "    canvas[pirate_row, pirate_col] = 0.3   # pirate cell\n",
    "    canvas[nrows-1, ncols-1] = 0.9 # treasure cell\n",
    "    img = plt.imshow(canvas, interpolation='none', cmap='gray')\n",
    "    return img"
   ]
  },
  {
   "cell_type": "markdown",
   "metadata": {},
   "source": [
    "The pirate agent can move in four directions: left, right, up, and down. \n",
    "\n",
    "While the agent primarily learns by experience through exploitation, often, the agent can choose to explore the environment to find previously undiscovered paths. This is called \"exploration\" and is defined by epsilon. This value is typically a lower value such as 0.1, which means for every ten attempts, the agent will attempt to learn by experience nine times and will randomly explore a new path one time. You are encouraged to try various values for the exploration factor and see how the algorithm performs."
   ]
  },
  {
   "cell_type": "code",
   "execution_count": 30,
   "metadata": {},
   "outputs": [],
   "source": [
    "LEFT = 0\n",
    "UP = 1\n",
    "RIGHT = 2\n",
    "DOWN = 3\n",
    "\n",
    "\n",
    "# Exploration factor\n",
    "epsilon = 0.05\n",
    "\n",
    "# Actions dictionary\n",
    "actions_dict = {\n",
    "    LEFT: 'left',\n",
    "    UP: 'up',\n",
    "    RIGHT: 'right',\n",
    "    DOWN: 'down',\n",
    "}\n",
    "\n",
    "num_actions = len(actions_dict)\n"
   ]
  },
  {
   "cell_type": "markdown",
   "metadata": {},
   "source": [
    "The sample code block and output below show creating a maze object and performing one action (DOWN), which returns the reward. The resulting updated environment is visualized."
   ]
  },
  {
   "cell_type": "code",
   "execution_count": 31,
   "metadata": {},
   "outputs": [
    {
     "name": "stdout",
     "output_type": "stream",
     "text": [
      "reward= -0.04\n"
     ]
    },
    {
     "data": {
      "text/plain": [
       "<matplotlib.image.AxesImage at 0x29327a14a88>"
      ]
     },
     "execution_count": 31,
     "metadata": {},
     "output_type": "execute_result"
    },
    {
     "data": {
      "image/png": "[encoded data removed]",
      "text/plain": [
       "<Figure size 432x288 with 1 Axes>"
      ]
     },
     "metadata": {
      "needs_background": "light"
     },
     "output_type": "display_data"
    }
   ],
   "source": [
    "qmaze = TreasureMaze(maze)\n",
    "canvas, reward, game_over = qmaze.act(DOWN)\n",
    "print(\"reward=\", reward)\n",
    "show(qmaze)"
   ]
  },
  {
   "cell_type": "markdown",
   "metadata": {},
   "source": [
    "This function simulates a full game based on the provided trained model. The other parameters include the TreasureMaze object and the starting position of the pirate."
   ]
  },
  {
   "cell_type": "code",
   "execution_count": 32,
   "metadata": {},
   "outputs": [],
   "source": [
    "def play_game(model, qmaze, pirate_cell):\n",
    "    qmaze.reset(pirate_cell)\n",
    "    envstate = qmaze.observe()\n",
    "    while True:\n",
    "        prev_envstate = envstate\n",
    "        # get next action\n",
    "        q = model.predict(prev_envstate)\n",
    "        action = np.argmax(q[0])\n",
    "\n",
    "        # apply action, get rewards and new state\n",
    "        envstate, reward, game_status = qmaze.act(action)\n",
    "        if game_status == 'win':\n",
    "            return True\n",
    "        elif game_status == 'lose':\n",
    "            return False"
   ]
  },
  {
   "cell_type": "markdown",
   "metadata": {},
   "source": [
    "This function helps you to determine whether the pirate can win any game at all. If your maze is not well designed, the pirate may not win any game at all. In this case, your training would not yield any result. The provided maze in this notebook ensures that there is a path to win and you can run this method to check."
   ]
  },
  {
   "cell_type": "code",
   "execution_count": 33,
   "metadata": {},
   "outputs": [],
   "source": [
    "def completion_check(model, qmaze):\n",
    "    for cell in qmaze.free_cells:\n",
    "        if not qmaze.valid_actions(cell):\n",
    "            return False\n",
    "        if not play_game(model, qmaze, cell):\n",
    "            return False\n",
    "    return True"
   ]
  },
  {
   "cell_type": "markdown",
   "metadata": {},
   "source": [
    "The code you have been given in this block will build the neural network model. Review the code and note the number of layers, as well as the activation, optimizer, and loss functions that are used to train the model."
   ]
  },
  {
   "cell_type": "code",
   "execution_count": 34,
   "metadata": {},
   "outputs": [],
   "source": [
    "def build_model(maze):\n",
    "    model = Sequential()\n",
    "    model.add(Dense(maze.size, input_shape=(maze.size,)))\n",
    "    model.add(PReLU())\n",
    "    model.add(Dense(maze.size))\n",
    "    model.add(PReLU())\n",
    "    model.add(Dense(num_actions))\n",
    "    model.compile(optimizer='adam', loss='mse')\n",
    "    return model"
   ]
  },
  {
   "cell_type": "markdown",
   "metadata": {},
   "source": [
    "# #TODO: Complete the Q-Training Algorithm Code Block\n",
    "\n",
    "This is your deep Q-learning implementation. The goal of your deep Q-learning implementation is to find the best possible navigation sequence that results in reaching the treasure cell while maximizing the reward. In your implementation, you need to determine the optimal number of epochs to achieve a 100% win rate.\n",
    "\n",
    "You will need to complete the section starting with #pseudocode. The pseudocode has been included for you."
   ]
  },
  {
   "cell_type": "code",
   "execution_count": 35,
   "metadata": {
    "scrolled": true
   },
   "outputs": [],
   "source": [
    "def qtrain(model, maze, **opt):\n",
    "\n",
    "    # exploration factor\n",
    "    global epsilon    #this will be the percentage oif random roaming the actor will take\n",
    "\n",
    "    # number of epochs\n",
    "    n_epoch = opt.get('n_epoch', 15000)  #this is the range of epochs, default is 15000\n",
    "\n",
    "    # maximum memory to store episodes\n",
    "    max_memory = opt.get('max_memory', 1000)\n",
    "\n",
    "    # maximum data size for training\n",
    "    data_size = opt.get('data_size', 50)\n",
    "\n",
    "    # start time\n",
    "    start_time = datetime.datetime.now()\n",
    "\n",
    "    # Construct environment/game from numpy array: maze (see above)\n",
    "    qmaze = TreasureMaze(maze)\n",
    "\n",
    "    # Initialize experience replay object\n",
    "    experience = GameExperience(model, max_memory=max_memory)\n",
    "    \n",
    "    win_history = []   # history of win/lose game  \n",
    "    hsize = qmaze.maze.size//2   # history window size\n",
    "    win_rate = 0.0\n",
    "    \n",
    "    # FIXME START *********************************************************\n",
    "    \n",
    "    # For each epoch:\n",
    "    for epoch in range(n_epoch):  #from number of epochs which starts at 15000\n",
    "        \n",
    "        loss = 0.0    # to count epoch loss or win\n",
    "        n_episodes = 0    #this will be the number of episodes in each epoch\n",
    "        game_over = False        \n",
    "\n",
    "        #    Agent_cell = randomly select a free cell\n",
    "        agent_cell = random.choice(qmaze.free_cells)  #https://numpy.org/doc/stable/reference/random/generated/numpy.random.randint.html\n",
    "        \n",
    "        #    Reset the maze with agent set to above position, Hint: Review the reset method in the TreasureMaze.py class.        \n",
    "        qmaze.reset(agent_cell)\n",
    "    \n",
    "        #    envstate = Environment.current_state which is explained in the method: obeserve()\n",
    "        #    Hint: Review the observe method in the TreasureMaze.py class. \n",
    "        envstate = qmaze.observe()     \n",
    "                                \n",
    "        #    While state is not game over:\n",
    "        while not game_over:\n",
    "            \n",
    "            # previous_envstate = envstate\n",
    "            previous_envstate = envstate # saves last state and is used to fine a valid_action\n",
    "            \n",
    "            # Action = randomly choose action (left, right, up, down) either by exploration or by exploitation\n",
    "            valid_actions = qmaze.valid_actions()\n",
    "            if not valid_actions: \n",
    "                break\n",
    "                \n",
    "            #10 percent of the time we will get a random exploration\n",
    "            if np.random.rand() < epsilon: # activate 10% of the time if epsilon is 0.1\n",
    "                action = random.choice(valid_actions) #this choses a random action out of the valid actions array       \n",
    "            \n",
    "            #90 percent of the time keras will predict the best output\n",
    "            else:\n",
    "                action = np.argmax(experience.predict(previous_envstate))  # https://www.activestate.com/resources/quick-reads/how-to-use-a-model-to-do-predictions-with-keras/\n",
    "                # model.predict() interacts with keras to predict the best output\n",
    "            \n",
    "            \n",
    "                # envstate, reward, game_status = qmaze.act(action)                \n",
    "                # Hint: Review the act method in the TreasureMaze.py class.\n",
    "            envstate, reward, game_status = qmaze.act(action) ## apply action, get rewards and new state\n",
    "    \n",
    "                # episode = [previous_envstate, action, reward, envstate, game_status]\n",
    "            episode = [previous_envstate, action, reward, envstate, game_status]\n",
    "            \n",
    "                # Store episode in Experience replay object\n",
    "                # Hint: Review the remember method in the GameExperience.py class.\n",
    "            experience.remember(episode)\n",
    "            n_episodes +=1\n",
    "\n",
    "                # Train neural network model and evaluate loss\n",
    "                # Hint: Call GameExperience.get_data to retrieve training data (input and target) and pass to model.fit method \n",
    "            inputs, targets = experience.get_data(data_size=data_size)\n",
    "            #one of the API\n",
    "            model.fit(inputs, targets, epochs=8, batch_size=64, verbose=0) #model.fit https://www.tensorflow.org/api_docs/python/tf/keras/Model             \n",
    "    \n",
    "                # to train the model. You can call model.evaluate to determine loss.\n",
    "            loss = model.evaluate(inputs, targets, verbose=0)  #https://www.tensorflow.org/guide/keras/train_and_evaluate\n",
    "\n",
    "                # If the win rate is above the threshold and your model passes the completion check, that would be your epoch.\n",
    "  \n",
    "                # win, lose, not_over are possible game_status\n",
    "            if game_status == 'win':    #checking game status to see if it is a win\n",
    "                win_history.append(1)\n",
    "                win_rate = sum(win_history) / len(win_history)\n",
    "                game_over = True\n",
    "            elif game_status == 'lose':\n",
    "                win_history.append(0)\n",
    "                win_rate = sum(win_history) / len(win_history)\n",
    "                game_over = True\n",
    "            else:\n",
    "                game_over = False\n",
    "        \n",
    "        \n",
    "    #FIXME END:**********************************************************    \n",
    "  \n",
    "    #Print the epoch, loss, episodes, win count, and win rate for each epoch\n",
    "        dt = datetime.datetime.now() - start_time\n",
    "        t = format_time(dt.total_seconds())\n",
    "        template = \"Epoch: {:03d}/{:d} | Loss: {:.4f} | Episodes: {:d} | Win count: {:d} | Win rate: {:.3f} | time: {}\"\n",
    "        print(template.format(epoch, n_epoch-1, loss, n_episodes, sum(win_history), win_rate, t))\n",
    "        # We simply check if training has exhausted all free cells and if in all\n",
    "        # cases the agent won.\n",
    "        if win_rate > 0.9 : epsilon = 0.1  #default seems to be 0.05\n",
    "        if sum(win_history[-hsize:]) == hsize and completion_check(model, qmaze):\n",
    "            print(\"Reached 100%% win rate at epoch: %d\" % (epoch,))\n",
    "            break   \n",
    "    \n",
    "    \n",
    "    # Determine the total time for training\n",
    "    dt = datetime.datetime.now() - start_time\n",
    "    seconds = dt.total_seconds()\n",
    "    t = format_time(seconds)\n",
    "\n",
    "    print(\"n_epoch: %d, max_mem: %d, data: %d, time: %s\" % (epoch, max_memory, data_size, t))\n",
    "    return seconds\n",
    "\n",
    "# This is a small utility for printing readable time strings:\n",
    "def format_time(seconds):\n",
    "    if seconds < 400:\n",
    "        s = float(seconds)\n",
    "        return \"%.1f seconds\" % (s,)\n",
    "    elif seconds < 4000:\n",
    "        m = seconds / 60.0\n",
    "        return \"%.2f minutes\" % (m,)\n",
    "    else:\n",
    "        h = seconds / 3600.0\n",
    "        return \"%.2f hours\" % (h,)"
   ]
  },
  {
   "cell_type": "markdown",
   "metadata": {},
   "source": [
    "## Test Your Model\n",
    "\n",
    "Now we will start testing the deep Q-learning implementation. To begin, select **Cell**, then **Run All** from the menu bar. This will run your notebook. As it runs, you should see output begin to appear beneath the next few cells. The code below creates an instance of TreasureMaze."
   ]
  },
  {
   "cell_type": "code",
   "execution_count": 36,
   "metadata": {},
   "outputs": [
    {
     "data": {
      "text/plain": [
       "<matplotlib.image.AxesImage at 0x29327997a88>"
      ]
     },
     "execution_count": 36,
     "metadata": {},
     "output_type": "execute_result"
    },
    {
     "data": {
      "image/png": "[encoded data removed]",
      "text/plain": [
       "<Figure size 432x288 with 1 Axes>"
      ]
     },
     "metadata": {
      "needs_background": "light"
     },
     "output_type": "display_data"
    }
   ],
   "source": [
    "qmaze = TreasureMaze(maze)\n",
    "show(qmaze)"
   ]
  },
  {
   "cell_type": "markdown",
   "metadata": {},
   "source": [
    "In the next code block, you will build your model and train it using deep Q-learning. Note: This step takes several minutes to fully run."
   ]
  },
  {
   "cell_type": "code",
   "execution_count": 37,
   "metadata": {},
   "outputs": [
    {
     "name": "stdout",
     "output_type": "stream",
     "text": [
      "Epoch: 000/14999 | Loss: 0.0003 | Episodes: 132 | Win count: 0 | Win rate: 0.000 | time: 12.3 seconds\n",
      "Epoch: 001/14999 | Loss: 0.0003 | Episodes: 132 | Win count: 0 | Win rate: 0.000 | time: 25.3 seconds\n",
      "Epoch: 002/14999 | Loss: 0.0000 | Episodes: 133 | Win count: 0 | Win rate: 0.000 | time: 38.0 seconds\n",
      "Epoch: 003/14999 | Loss: 0.0002 | Episodes: 134 | Win count: 0 | Win rate: 0.000 | time: 50.7 seconds\n",
      "Epoch: 004/14999 | Loss: 0.0001 | Episodes: 136 | Win count: 0 | Win rate: 0.000 | time: 67.6 seconds\n",
      "Epoch: 005/14999 | Loss: 0.0005 | Episodes: 134 | Win count: 0 | Win rate: 0.000 | time: 85.8 seconds\n",
      "Epoch: 006/14999 | Loss: 0.0008 | Episodes: 139 | Win count: 0 | Win rate: 0.000 | time: 103.0 seconds\n",
      "Epoch: 007/14999 | Loss: 0.0002 | Episodes: 135 | Win count: 0 | Win rate: 0.000 | time: 120.4 seconds\n",
      "Epoch: 008/14999 | Loss: 0.0001 | Episodes: 135 | Win count: 0 | Win rate: 0.000 | time: 137.6 seconds\n",
      "Epoch: 009/14999 | Loss: 0.0001 | Episodes: 133 | Win count: 0 | Win rate: 0.000 | time: 156.0 seconds\n",
      "Epoch: 010/14999 | Loss: 0.0003 | Episodes: 135 | Win count: 0 | Win rate: 0.000 | time: 173.2 seconds\n",
      "Epoch: 011/14999 | Loss: 0.0001 | Episodes: 134 | Win count: 0 | Win rate: 0.000 | time: 185.9 seconds\n",
      "Epoch: 012/14999 | Loss: 0.0002 | Episodes: 139 | Win count: 0 | Win rate: 0.000 | time: 199.1 seconds\n",
      "Epoch: 013/14999 | Loss: 0.0006 | Episodes: 89 | Win count: 1 | Win rate: 0.071 | time: 207.7 seconds\n",
      "Epoch: 014/14999 | Loss: 0.0006 | Episodes: 136 | Win count: 1 | Win rate: 0.067 | time: 221.2 seconds\n",
      "Epoch: 015/14999 | Loss: 0.0008 | Episodes: 20 | Win count: 2 | Win rate: 0.125 | time: 223.2 seconds\n",
      "Epoch: 016/14999 | Loss: 0.0009 | Episodes: 132 | Win count: 2 | Win rate: 0.118 | time: 236.5 seconds\n",
      "Epoch: 017/14999 | Loss: 0.0005 | Episodes: 76 | Win count: 3 | Win rate: 0.167 | time: 243.9 seconds\n",
      "Epoch: 018/14999 | Loss: 0.0005 | Episodes: 32 | Win count: 4 | Win rate: 0.211 | time: 247.1 seconds\n",
      "Epoch: 019/14999 | Loss: 0.0002 | Episodes: 139 | Win count: 4 | Win rate: 0.200 | time: 260.8 seconds\n",
      "Epoch: 020/14999 | Loss: 0.0003 | Episodes: 134 | Win count: 4 | Win rate: 0.190 | time: 282.9 seconds\n",
      "Epoch: 021/14999 | Loss: 0.0003 | Episodes: 1 | Win count: 5 | Win rate: 0.227 | time: 283.1 seconds\n",
      "Epoch: 022/14999 | Loss: 0.0004 | Episodes: 1 | Win count: 6 | Win rate: 0.261 | time: 283.4 seconds\n",
      "Epoch: 023/14999 | Loss: 0.0004 | Episodes: 138 | Win count: 6 | Win rate: 0.250 | time: 308.1 seconds\n",
      "Epoch: 024/14999 | Loss: 0.0001 | Episodes: 136 | Win count: 6 | Win rate: 0.240 | time: 323.0 seconds\n",
      "Epoch: 025/14999 | Loss: 0.0006 | Episodes: 48 | Win count: 7 | Win rate: 0.269 | time: 327.7 seconds\n",
      "Epoch: 026/14999 | Loss: 0.0004 | Episodes: 72 | Win count: 8 | Win rate: 0.296 | time: 334.8 seconds\n",
      "Epoch: 027/14999 | Loss: 0.0006 | Episodes: 55 | Win count: 9 | Win rate: 0.321 | time: 340.7 seconds\n",
      "Epoch: 028/14999 | Loss: 0.0009 | Episodes: 11 | Win count: 10 | Win rate: 0.345 | time: 341.8 seconds\n",
      "Epoch: 029/14999 | Loss: 0.0006 | Episodes: 9 | Win count: 11 | Win rate: 0.367 | time: 342.6 seconds\n",
      "Epoch: 030/14999 | Loss: 0.0003 | Episodes: 8 | Win count: 12 | Win rate: 0.387 | time: 343.5 seconds\n",
      "Epoch: 031/14999 | Loss: 0.0007 | Episodes: 13 | Win count: 13 | Win rate: 0.406 | time: 344.8 seconds\n",
      "Epoch: 032/14999 | Loss: 0.0008 | Episodes: 12 | Win count: 14 | Win rate: 0.424 | time: 346.0 seconds\n",
      "Epoch: 033/14999 | Loss: 0.0006 | Episodes: 1 | Win count: 15 | Win rate: 0.441 | time: 346.1 seconds\n",
      "Epoch: 034/14999 | Loss: 0.0002 | Episodes: 139 | Win count: 15 | Win rate: 0.429 | time: 360.1 seconds\n",
      "Epoch: 035/14999 | Loss: 0.0009 | Episodes: 141 | Win count: 15 | Win rate: 0.417 | time: 373.3 seconds\n",
      "Epoch: 036/14999 | Loss: 0.0007 | Episodes: 9 | Win count: 16 | Win rate: 0.432 | time: 374.3 seconds\n",
      "Epoch: 037/14999 | Loss: 0.0001 | Episodes: 136 | Win count: 16 | Win rate: 0.421 | time: 387.0 seconds\n",
      "Epoch: 038/14999 | Loss: 0.0006 | Episodes: 137 | Win count: 16 | Win rate: 0.410 | time: 6.68 minutes\n",
      "Epoch: 039/14999 | Loss: 0.0004 | Episodes: 29 | Win count: 17 | Win rate: 0.425 | time: 6.73 minutes\n",
      "Epoch: 040/14999 | Loss: 0.0003 | Episodes: 9 | Win count: 18 | Win rate: 0.439 | time: 6.75 minutes\n",
      "Epoch: 041/14999 | Loss: 0.0007 | Episodes: 69 | Win count: 19 | Win rate: 0.452 | time: 6.86 minutes\n",
      "Epoch: 042/14999 | Loss: 0.0004 | Episodes: 19 | Win count: 20 | Win rate: 0.465 | time: 6.90 minutes\n",
      "Epoch: 043/14999 | Loss: 0.0004 | Episodes: 16 | Win count: 21 | Win rate: 0.477 | time: 6.92 minutes\n",
      "Epoch: 044/14999 | Loss: 0.0002 | Episodes: 10 | Win count: 22 | Win rate: 0.489 | time: 6.94 minutes\n",
      "Epoch: 045/14999 | Loss: 0.0007 | Episodes: 2 | Win count: 23 | Win rate: 0.500 | time: 6.94 minutes\n",
      "Epoch: 046/14999 | Loss: 0.0004 | Episodes: 8 | Win count: 24 | Win rate: 0.511 | time: 6.96 minutes\n",
      "Epoch: 047/14999 | Loss: 0.0001 | Episodes: 27 | Win count: 25 | Win rate: 0.521 | time: 7.00 minutes\n",
      "Epoch: 048/14999 | Loss: 0.0003 | Episodes: 19 | Win count: 26 | Win rate: 0.531 | time: 7.04 minutes\n",
      "Epoch: 049/14999 | Loss: 0.0003 | Episodes: 3 | Win count: 27 | Win rate: 0.540 | time: 7.04 minutes\n",
      "Epoch: 050/14999 | Loss: 0.0005 | Episodes: 36 | Win count: 28 | Win rate: 0.549 | time: 7.10 minutes\n",
      "Epoch: 051/14999 | Loss: 0.0001 | Episodes: 9 | Win count: 29 | Win rate: 0.558 | time: 7.12 minutes\n",
      "Epoch: 052/14999 | Loss: 0.0001 | Episodes: 4 | Win count: 30 | Win rate: 0.566 | time: 7.12 minutes\n",
      "Epoch: 053/14999 | Loss: 0.0005 | Episodes: 1 | Win count: 31 | Win rate: 0.574 | time: 7.13 minutes\n",
      "Epoch: 054/14999 | Loss: 0.0004 | Episodes: 14 | Win count: 32 | Win rate: 0.582 | time: 7.15 minutes\n",
      "Epoch: 055/14999 | Loss: 0.0004 | Episodes: 35 | Win count: 33 | Win rate: 0.589 | time: 7.21 minutes\n",
      "Epoch: 056/14999 | Loss: 0.0004 | Episodes: 9 | Win count: 34 | Win rate: 0.596 | time: 7.23 minutes\n",
      "Epoch: 057/14999 | Loss: 0.0006 | Episodes: 25 | Win count: 35 | Win rate: 0.603 | time: 7.27 minutes\n",
      "Epoch: 058/14999 | Loss: 0.0006 | Episodes: 61 | Win count: 36 | Win rate: 0.610 | time: 7.37 minutes\n",
      "Epoch: 059/14999 | Loss: 0.0010 | Episodes: 19 | Win count: 37 | Win rate: 0.617 | time: 7.40 minutes\n",
      "Epoch: 060/14999 | Loss: 0.0007 | Episodes: 32 | Win count: 38 | Win rate: 0.623 | time: 7.45 minutes\n",
      "Epoch: 061/14999 | Loss: 0.0005 | Episodes: 15 | Win count: 39 | Win rate: 0.629 | time: 7.48 minutes\n",
      "Epoch: 062/14999 | Loss: 0.0008 | Episodes: 7 | Win count: 40 | Win rate: 0.635 | time: 7.49 minutes\n",
      "Epoch: 063/14999 | Loss: 0.0003 | Episodes: 21 | Win count: 41 | Win rate: 0.641 | time: 7.52 minutes\n",
      "Epoch: 064/14999 | Loss: 0.0003 | Episodes: 9 | Win count: 42 | Win rate: 0.646 | time: 7.54 minutes\n",
      "Epoch: 065/14999 | Loss: 0.0009 | Episodes: 19 | Win count: 43 | Win rate: 0.652 | time: 7.57 minutes\n",
      "Epoch: 066/14999 | Loss: 0.0009 | Episodes: 22 | Win count: 44 | Win rate: 0.657 | time: 7.61 minutes\n",
      "Epoch: 067/14999 | Loss: 0.0007 | Episodes: 27 | Win count: 45 | Win rate: 0.662 | time: 7.65 minutes\n",
      "Epoch: 068/14999 | Loss: 0.0004 | Episodes: 18 | Win count: 46 | Win rate: 0.667 | time: 7.68 minutes\n",
      "Epoch: 069/14999 | Loss: 0.0008 | Episodes: 3 | Win count: 47 | Win rate: 0.671 | time: 7.68 minutes\n",
      "Epoch: 070/14999 | Loss: 0.0010 | Episodes: 18 | Win count: 48 | Win rate: 0.676 | time: 7.72 minutes\n",
      "Epoch: 071/14999 | Loss: 0.0015 | Episodes: 27 | Win count: 49 | Win rate: 0.681 | time: 7.77 minutes\n",
      "Epoch: 072/14999 | Loss: 0.0006 | Episodes: 26 | Win count: 50 | Win rate: 0.685 | time: 7.82 minutes\n",
      "Epoch: 073/14999 | Loss: 0.0006 | Episodes: 23 | Win count: 51 | Win rate: 0.689 | time: 7.87 minutes\n",
      "Epoch: 074/14999 | Loss: 0.0015 | Episodes: 21 | Win count: 52 | Win rate: 0.693 | time: 7.90 minutes\n",
      "Epoch: 075/14999 | Loss: 0.0004 | Episodes: 11 | Win count: 53 | Win rate: 0.697 | time: 7.92 minutes\n",
      "Epoch: 076/14999 | Loss: 0.0011 | Episodes: 16 | Win count: 54 | Win rate: 0.701 | time: 7.95 minutes\n",
      "Epoch: 077/14999 | Loss: 0.0005 | Episodes: 19 | Win count: 55 | Win rate: 0.705 | time: 8.00 minutes\n",
      "Epoch: 078/14999 | Loss: 0.0009 | Episodes: 17 | Win count: 56 | Win rate: 0.709 | time: 8.03 minutes\n",
      "Epoch: 079/14999 | Loss: 0.0004 | Episodes: 17 | Win count: 57 | Win rate: 0.713 | time: 8.07 minutes\n",
      "Epoch: 080/14999 | Loss: 0.0007 | Episodes: 60 | Win count: 58 | Win rate: 0.716 | time: 8.17 minutes\n"
     ]
    },
    {
     "name": "stdout",
     "output_type": "stream",
     "text": [
      "Epoch: 081/14999 | Loss: 0.0005 | Episodes: 10 | Win count: 59 | Win rate: 0.720 | time: 8.19 minutes\n",
      "Epoch: 082/14999 | Loss: 0.0004 | Episodes: 10 | Win count: 60 | Win rate: 0.723 | time: 8.21 minutes\n",
      "Epoch: 083/14999 | Loss: 0.0003 | Episodes: 32 | Win count: 61 | Win rate: 0.726 | time: 8.26 minutes\n",
      "Epoch: 084/14999 | Loss: 0.0002 | Episodes: 5 | Win count: 62 | Win rate: 0.729 | time: 8.28 minutes\n",
      "Epoch: 085/14999 | Loss: 0.0001 | Episodes: 32 | Win count: 63 | Win rate: 0.733 | time: 8.33 minutes\n",
      "Epoch: 086/14999 | Loss: 0.0009 | Episodes: 7 | Win count: 64 | Win rate: 0.736 | time: 8.34 minutes\n",
      "Epoch: 087/14999 | Loss: 0.0001 | Episodes: 9 | Win count: 65 | Win rate: 0.739 | time: 8.36 minutes\n",
      "Epoch: 088/14999 | Loss: 0.0001 | Episodes: 10 | Win count: 66 | Win rate: 0.742 | time: 8.38 minutes\n",
      "Epoch: 089/14999 | Loss: 0.0003 | Episodes: 4 | Win count: 67 | Win rate: 0.744 | time: 8.40 minutes\n",
      "Epoch: 090/14999 | Loss: 0.0003 | Episodes: 37 | Win count: 68 | Win rate: 0.747 | time: 8.46 minutes\n",
      "Epoch: 091/14999 | Loss: 0.0010 | Episodes: 44 | Win count: 69 | Win rate: 0.750 | time: 8.53 minutes\n",
      "Epoch: 092/14999 | Loss: 0.0006 | Episodes: 4 | Win count: 70 | Win rate: 0.753 | time: 8.54 minutes\n",
      "Epoch: 093/14999 | Loss: 0.0005 | Episodes: 25 | Win count: 71 | Win rate: 0.755 | time: 8.58 minutes\n",
      "Epoch: 094/14999 | Loss: 0.0003 | Episodes: 3 | Win count: 72 | Win rate: 0.758 | time: 8.60 minutes\n",
      "Epoch: 095/14999 | Loss: 0.0005 | Episodes: 24 | Win count: 73 | Win rate: 0.760 | time: 8.64 minutes\n",
      "Epoch: 096/14999 | Loss: 0.0007 | Episodes: 21 | Win count: 74 | Win rate: 0.763 | time: 8.68 minutes\n",
      "Epoch: 097/14999 | Loss: 0.0001 | Episodes: 22 | Win count: 75 | Win rate: 0.765 | time: 8.72 minutes\n",
      "Epoch: 098/14999 | Loss: 0.0001 | Episodes: 9 | Win count: 76 | Win rate: 0.768 | time: 8.74 minutes\n",
      "Epoch: 099/14999 | Loss: 0.0007 | Episodes: 13 | Win count: 77 | Win rate: 0.770 | time: 8.77 minutes\n",
      "Epoch: 100/14999 | Loss: 0.0004 | Episodes: 7 | Win count: 78 | Win rate: 0.772 | time: 8.78 minutes\n",
      "Epoch: 101/14999 | Loss: 0.0005 | Episodes: 28 | Win count: 79 | Win rate: 0.775 | time: 8.83 minutes\n",
      "Epoch: 102/14999 | Loss: 0.0010 | Episodes: 55 | Win count: 80 | Win rate: 0.777 | time: 8.94 minutes\n",
      "Epoch: 103/14999 | Loss: 0.0011 | Episodes: 21 | Win count: 81 | Win rate: 0.779 | time: 8.98 minutes\n",
      "Epoch: 104/14999 | Loss: 0.0012 | Episodes: 11 | Win count: 82 | Win rate: 0.781 | time: 9.00 minutes\n",
      "Epoch: 105/14999 | Loss: 0.0003 | Episodes: 33 | Win count: 83 | Win rate: 0.783 | time: 9.06 minutes\n",
      "Reached 100% win rate at epoch: 105\n",
      "n_epoch: 105, max_mem: 512, data: 32, time: 9.07 minutes\n"
     ]
    },
    {
     "data": {
      "text/plain": [
       "544.104328"
      ]
     },
     "execution_count": 37,
     "metadata": {},
     "output_type": "execute_result"
    }
   ],
   "source": [
    "model = build_model(maze)\n",
    "qtrain(model, maze, epochs=1000, max_memory=8*maze.size, data_size=32)"
   ]
  },
  {
   "cell_type": "markdown",
   "metadata": {},
   "source": [
    "This cell will check to see if the model passes the completion check. Note: This could take several minutes."
   ]
  },
  {
   "cell_type": "code",
   "execution_count": 38,
   "metadata": {},
   "outputs": [
    {
     "data": {
      "text/plain": [
       "<matplotlib.image.AxesImage at 0x29327535208>"
      ]
     },
     "execution_count": 38,
     "metadata": {},
     "output_type": "execute_result"
    },
    {
     "data": {
      "image/png": "[encoded data removed]",
      "text/plain": [
       "<Figure size 432x288 with 1 Axes>"
      ]
     },
     "metadata": {
      "needs_background": "light"
     },
     "output_type": "display_data"
    }
   ],
   "source": [
    "completion_check(model, qmaze)\n",
    "show(qmaze)"
   ]
  },
  {
   "cell_type": "markdown",
   "metadata": {},
   "source": [
    "This cell will test your model for one game. It will start the pirate at the top-left corner and run play_game. The agent should find a path from the starting position to the target (treasure). The treasure is located in the bottom-right corner."
   ]
  },
  {
   "cell_type": "code",
   "execution_count": 39,
   "metadata": {},
   "outputs": [
    {
     "data": {
      "text/plain": [
       "<matplotlib.image.AxesImage at 0x29327810708>"
      ]
     },
     "execution_count": 39,
     "metadata": {},
     "output_type": "execute_result"
    },
    {
     "data": {
      "image/png": "[encoded data removed]",
      "text/plain": [
       "<Figure size 432x288 with 1 Axes>"
      ]
     },
     "metadata": {
      "needs_background": "light"
     },
     "output_type": "display_data"
    }
   ],
   "source": [
    "pirate_start = (0, 0)\n",
    "play_game(model, qmaze, pirate_start)\n",
    "show(qmaze)"
   ]
  },
  {
   "cell_type": "markdown",
   "metadata": {},
   "source": [
    "## Save and Submit Your Work\n",
    "After you have finished creating the code for your notebook, save your work. Make sure that your notebook contains your name in the filename (e.g. Doe_Jane_ProjectTwo.ipynb). This will help your instructor access and grade your work easily. Download a copy of your IPYNB file and submit it to Brightspace. Refer to the Jupyter Notebook in Apporto Tutorial if you need help with these tasks."
   ]
  }
 ],
 "metadata": {
  "kernelspec": {
   "display_name": "Python 3",
   "language": "python",
   "name": "python3"
  },
  "language_info": {
   "codemirror_mode": {
    "name": "ipython",
    "version": 3
   },
   "file_extension": ".py",
   "mimetype": "text/x-python",
   "name": "python",
   "nbconvert_exporter": "python",
   "pygments_lexer": "ipython3",
   "version": "3.7.4"
  }
 },
 "nbformat": 4,
 "nbformat_minor": 2
}
